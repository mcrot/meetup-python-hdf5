{
 "cells": [
  {
   "cell_type": "markdown",
   "metadata": {},
   "source": [
    "# Purpose of *PyTables*"
   ]
  },
  {
   "cell_type": "markdown",
   "metadata": {
    "collapsed": true
   },
   "source": [
    "http://www.pytables.org/\n",
    "\n",
    "Provides a more database-like access to HDF5 data including \n",
    "\n",
    "- indexing for fast searches\n",
    "- fast \"in-kernel\" queries on dataset contents\n",
    "- custom system to represent data types\n",
    "- use of types in HDF5 which have no equivalent in NumPy (like enum types)\n",
    "- redo/undo feature\n",
    "\n",
    "Data written with *PyTables* is probably only usable with *PyTables*\n",
    "(customized format on top of HDF5).\n"
   ]
  },
  {
   "cell_type": "markdown",
   "metadata": {},
   "source": [
    "# Comparison to h5py\n",
    "\n",
    "From h5py's perspective: \n",
    "\n",
    "http://docs.h5py.org/en/latest/faq.html#what-s-the-difference-between-h5py-and-pytables\n",
    "\n",
    "From PyTables' perspective: \n",
    "\n",
    "http://www.pytables.org/FAQ.html#how-does-pytables-compare-with-the-h5py-project\n",
    "\n",
    "\n",
    "\n",
    "\n",
    "\n"
   ]
  },
  {
   "cell_type": "markdown",
   "metadata": {},
   "source": [
    "# Installation\n",
    "\n",
    "Conda:\n",
    "\n",
    "    conda install tables\n",
    "    \n",
    "Alternatives:\n",
    "    \n",
    "     http://www.pytables.org/usersguide/installation.html\n",
    "\n",
    "Again installation from source can be a tedious, there are also independent repositories with pre-built binaries\n",
    "for Windows."
   ]
  },
  {
   "cell_type": "markdown",
   "metadata": {},
   "source": [
    "# Using custom data types"
   ]
  },
  {
   "cell_type": "markdown",
   "metadata": {},
   "source": [
    "Short version of example in PyTables documentation:"
   ]
  },
  {
   "cell_type": "code",
   "execution_count": 18,
   "metadata": {
    "collapsed": true
   },
   "outputs": [],
   "source": [
    "from tables import IsDescription, StringCol, Int64Col, Float32Col"
   ]
  },
  {
   "cell_type": "code",
   "execution_count": 29,
   "metadata": {
    "collapsed": true
   },
   "outputs": [],
   "source": [
    "class Particle(IsDescription):\n",
    "    name = StringCol(16)\n",
    "    idnumber = Int64Col()\n",
    "    pressure = Float32Col()\n",
    "    "
   ]
  },
  {
   "cell_type": "code",
   "execution_count": 96,
   "metadata": {},
   "outputs": [],
   "source": [
    "h5 = tables.open_file(\"example-pytables.h5\", mode='w', title='Demonstration')"
   ]
  },
  {
   "cell_type": "code",
   "execution_count": 97,
   "metadata": {
    "collapsed": true
   },
   "outputs": [],
   "source": [
    "group = h5.create_group(\"/\", \"detector\", \"This is data from the detector.\") # <-- also title here (see attributes)"
   ]
  },
  {
   "cell_type": "code",
   "execution_count": 98,
   "metadata": {
    "collapsed": true
   },
   "outputs": [],
   "source": [
    "h5.flush()"
   ]
  },
  {
   "cell_type": "code",
   "execution_count": 99,
   "metadata": {
    "collapsed": true
   },
   "outputs": [],
   "source": [
    "table = h5.create_table(group, 'readout', Particle, 'Readout example')"
   ]
  },
  {
   "cell_type": "markdown",
   "metadata": {},
   "source": [
    "Getting a table to a row:"
   ]
  },
  {
   "cell_type": "code",
   "execution_count": 100,
   "metadata": {
    "collapsed": true
   },
   "outputs": [],
   "source": [
    "particle = table.row"
   ]
  },
  {
   "cell_type": "markdown",
   "metadata": {},
   "source": [
    "Appending rows.."
   ]
  },
  {
   "cell_type": "code",
   "execution_count": 101,
   "metadata": {},
   "outputs": [],
   "source": [
    "import random\n",
    "for i in range(1000000):\n",
    "    particle['name'] = 'part{:6d}'.format(i)\n",
    "    particle['idnumber'] = i\n",
    "    particle['pressure'] = 1000*random.random()\n",
    "    particle.append()"
   ]
  },
  {
   "cell_type": "code",
   "execution_count": 102,
   "metadata": {
    "collapsed": true
   },
   "outputs": [],
   "source": [
    "table.flush()\n",
    "# h5.flush()"
   ]
  },
  {
   "cell_type": "markdown",
   "metadata": {},
   "source": [
    "# Querying data"
   ]
  },
  {
   "cell_type": "code",
   "execution_count": 114,
   "metadata": {
    "collapsed": true
   },
   "outputs": [],
   "source": [
    "table = h5.root.detector.readout"
   ]
  },
  {
   "cell_type": "markdown",
   "metadata": {},
   "source": [
    "\"Regular query\" using list comprehension:"
   ]
  },
  {
   "cell_type": "code",
   "execution_count": 115,
   "metadata": {},
   "outputs": [
    {
     "name": "stdout",
     "output_type": "stream",
     "text": [
      "1 loop, best of 3: 1.43 s per loop\n"
     ]
    }
   ],
   "source": [
    "%timeit names = [x['name'] for x in table if x['pressure']>=20 and x['pressure']<50 and x['idnumber']<1000]"
   ]
  },
  {
   "cell_type": "code",
   "execution_count": 116,
   "metadata": {
    "collapsed": true
   },
   "outputs": [],
   "source": [
    "query = \"(20 <= pressure) & (pressure < 50) & (idnumber<1000)\""
   ]
  },
  {
   "cell_type": "code",
   "execution_count": 117,
   "metadata": {},
   "outputs": [
    {
     "name": "stdout",
     "output_type": "stream",
     "text": [
      "1000 loops, best of 3: 915 µs per loop\n"
     ]
    }
   ],
   "source": [
    "%timeit names = [ x['name'] for x in table.where(query) ]"
   ]
  },
  {
   "cell_type": "code",
   "execution_count": 108,
   "metadata": {},
   "outputs": [
    {
     "data": {
      "text/plain": [
       "30"
      ]
     },
     "execution_count": 108,
     "metadata": {},
     "output_type": "execute_result"
    }
   ],
   "source": [
    "len(names)"
   ]
  },
  {
   "cell_type": "markdown",
   "metadata": {},
   "source": [
    "During development there was much focus on optimizing these \"in-kernel\" queries\n",
    "\n",
    " http://www.pytables.org/usersguide/optimization.html#searchoptim\n",
    " \n",
    "having hardware architecture in mind and using different compression methods."
   ]
  },
  {
   "cell_type": "code",
   "execution_count": 109,
   "metadata": {},
   "outputs": [
    {
     "data": {
      "text/plain": [
       "frozenset()"
      ]
     },
     "execution_count": 109,
     "metadata": {},
     "output_type": "execute_result"
    }
   ],
   "source": [
    "table.will_query_use_indexing(query)"
   ]
  },
  {
   "cell_type": "code",
   "execution_count": 110,
   "metadata": {},
   "outputs": [
    {
     "data": {
      "text/plain": [
       "1000000"
      ]
     },
     "execution_count": 110,
     "metadata": {},
     "output_type": "execute_result"
    }
   ],
   "source": [
    "table.cols.pressure.create_index()\n",
    "table.cols.idnumber.create_index()"
   ]
  },
  {
   "cell_type": "code",
   "execution_count": 111,
   "metadata": {},
   "outputs": [
    {
     "data": {
      "text/plain": [
       "frozenset({'idnumber', 'pressure'})"
      ]
     },
     "execution_count": 111,
     "metadata": {},
     "output_type": "execute_result"
    }
   ],
   "source": [
    "table.will_query_use_indexing(query)"
   ]
  },
  {
   "cell_type": "code",
   "execution_count": 112,
   "metadata": {},
   "outputs": [
    {
     "name": "stdout",
     "output_type": "stream",
     "text": [
      "The slowest run took 58.59 times longer than the fastest. This could mean that an intermediate result is being cached.\n",
      "1000 loops, best of 3: 913 µs per loop\n"
     ]
    }
   ],
   "source": [
    "%timeit names = [ x['name'] for x in table.where(query) ]"
   ]
  },
  {
   "cell_type": "code",
   "execution_count": 95,
   "metadata": {
    "collapsed": true
   },
   "outputs": [],
   "source": [
    "h5.close()"
   ]
  },
  {
   "cell_type": "markdown",
   "metadata": {},
   "source": [
    "# Reading and writing meta data\n"
   ]
  },
  {
   "cell_type": "code",
   "execution_count": 118,
   "metadata": {},
   "outputs": [
    {
     "data": {
      "text/plain": [
       "/detector/readout._v_attrs (AttributeSet), 10 attributes:\n",
       "   [CLASS := 'TABLE',\n",
       "    FIELD_0_FILL := 0,\n",
       "    FIELD_0_NAME := 'idnumber',\n",
       "    FIELD_1_FILL := b'',\n",
       "    FIELD_1_NAME := 'name',\n",
       "    FIELD_2_FILL := 0.0,\n",
       "    FIELD_2_NAME := 'pressure',\n",
       "    NROWS := 0,\n",
       "    TITLE := 'Readout example',\n",
       "    VERSION := '2.7']"
      ]
     },
     "execution_count": 118,
     "metadata": {},
     "output_type": "execute_result"
    }
   ],
   "source": [
    "table.attrs"
   ]
  },
  {
   "cell_type": "code",
   "execution_count": 122,
   "metadata": {},
   "outputs": [],
   "source": [
    "table.attrs.laboratory = \"Lab1\"\n",
    "import datetime\n",
    "table.attrs.time = datetime.datetime.now()\n",
    "table.attrs.temperature = 15.4"
   ]
  },
  {
   "cell_type": "code",
   "execution_count": 123,
   "metadata": {},
   "outputs": [
    {
     "data": {
      "text/plain": [
       "/detector/readout._v_attrs (AttributeSet), 13 attributes:\n",
       "   [CLASS := 'TABLE',\n",
       "    FIELD_0_FILL := 0,\n",
       "    FIELD_0_NAME := 'idnumber',\n",
       "    FIELD_1_FILL := b'',\n",
       "    FIELD_1_NAME := 'name',\n",
       "    FIELD_2_FILL := 0.0,\n",
       "    FIELD_2_NAME := 'pressure',\n",
       "    NROWS := 0,\n",
       "    TITLE := 'Readout example',\n",
       "    VERSION := '2.7',\n",
       "    laboratory := 'Lab1',\n",
       "    temperature := 15.4,\n",
       "    time := datetime.datetime(2017, 4, 12, 11, 26, 2, 604747)]"
      ]
     },
     "execution_count": 123,
     "metadata": {},
     "output_type": "execute_result"
    }
   ],
   "source": [
    "table.attrs"
   ]
  },
  {
   "cell_type": "markdown",
   "metadata": {},
   "source": [
    "# Appending Data\n",
    "\n",
    "Data is appended to the end.."
   ]
  },
  {
   "cell_type": "code",
   "execution_count": 135,
   "metadata": {
    "collapsed": true
   },
   "outputs": [],
   "source": [
    "h5.close()\n",
    "h5 = tables.open_file(\"example-pytables.h5\", mode='a')\n",
    "table = h5.root.detector.readout\n",
    "particle = table.row"
   ]
  },
  {
   "cell_type": "code",
   "execution_count": 132,
   "metadata": {},
   "outputs": [],
   "source": [
    "for i in range(10):\n",
    "    particle['name'] = 'NEWpart{:6d}'.format(i)\n",
    "    particle['idnumber'] = i\n",
    "    particle['pressure'] = -1\n",
    "    particle.append()\n",
    "h5.flush()"
   ]
  },
  {
   "cell_type": "code",
   "execution_count": 137,
   "metadata": {},
   "outputs": [],
   "source": [
    "arr = table.read()"
   ]
  },
  {
   "cell_type": "code",
   "execution_count": 139,
   "metadata": {},
   "outputs": [
    {
     "data": {
      "text/plain": [
       "array([(999998, b'part999998',  108.82778168),\n",
       "       (999999, b'part999999',  321.05886841),\n",
       "       (     0, b'NEWpart     0',   -1.        ),\n",
       "       (     1, b'NEWpart     1',   -1.        ),\n",
       "       (     2, b'NEWpart     2',   -1.        ),\n",
       "       (     3, b'NEWpart     3',   -1.        ),\n",
       "       (     4, b'NEWpart     4',   -1.        ),\n",
       "       (     5, b'NEWpart     5',   -1.        ),\n",
       "       (     6, b'NEWpart     6',   -1.        ),\n",
       "       (     7, b'NEWpart     7',   -1.        ),\n",
       "       (     8, b'NEWpart     8',   -1.        ),\n",
       "       (     9, b'NEWpart     9',   -1.        )], \n",
       "      dtype=[('idnumber', '<i8'), ('name', 'S16'), ('pressure', '<f4')])"
      ]
     },
     "execution_count": 139,
     "metadata": {},
     "output_type": "execute_result"
    }
   ],
   "source": [
    "arr[-12:]"
   ]
  },
  {
   "cell_type": "markdown",
   "metadata": {},
   "source": [
    "# Modifying table on disk"
   ]
  },
  {
   "cell_type": "code",
   "execution_count": 143,
   "metadata": {},
   "outputs": [],
   "source": [
    "table.cols.pressure[-5:] = (-99,-99,-99,-99,-99)"
   ]
  },
  {
   "cell_type": "code",
   "execution_count": 144,
   "metadata": {},
   "outputs": [
    {
     "data": {
      "text/plain": [
       "array([(999998, b'part999998',  108.82778168),\n",
       "       (999999, b'part999999',  321.05886841),\n",
       "       (     0, b'NEWpart     0',   -1.        ),\n",
       "       (     1, b'NEWpart     1',   -1.        ),\n",
       "       (     2, b'NEWpart     2',   -1.        ),\n",
       "       (     3, b'NEWpart     3',   -1.        ),\n",
       "       (     4, b'NEWpart     4',   -1.        ),\n",
       "       (     5, b'NEWpart     5',  -99.        ),\n",
       "       (     6, b'NEWpart     6',  -99.        ),\n",
       "       (     7, b'NEWpart     7',  -99.        ),\n",
       "       (     8, b'NEWpart     8',  -99.        ),\n",
       "       (     9, b'NEWpart     9',  -99.        )], \n",
       "      dtype=[('idnumber', '<i8'), ('name', 'S16'), ('pressure', '<f4')])"
      ]
     },
     "execution_count": 144,
     "metadata": {},
     "output_type": "execute_result"
    }
   ],
   "source": [
    "table[-12:]"
   ]
  },
  {
   "cell_type": "code",
   "execution_count": 133,
   "metadata": {
    "collapsed": true
   },
   "outputs": [],
   "source": [
    "h5.close()"
   ]
  },
  {
   "cell_type": "markdown",
   "metadata": {},
   "source": [
    "# More Features...\n",
    "\n",
    "Not everything shown here, e.g. it is also possible to define *nested structures*:\n",
    "    \n",
    "http://www.pytables.org/usersguide/tutorials.html#dealing-with-nested-structures-in-tables\n",
    "        "
   ]
  },
  {
   "cell_type": "markdown",
   "metadata": {},
   "source": [
    "# Future\n",
    "\n",
    "\n",
    "Future plans include \n",
    "\n",
    "- usage of *h5py* as foundation for *pytables*\n",
    "- implementation of column-wise tables in *pytables*\n",
    "\n",
    "Volunteers needed:\n",
    "\n",
    "https://github.com/numfocus/volunteer-opportunities/blob/master/pytables-projects.md"
   ]
  },
  {
   "cell_type": "code",
   "execution_count": null,
   "metadata": {
    "collapsed": true
   },
   "outputs": [],
   "source": []
  }
 ],
 "metadata": {
  "kernelspec": {
   "display_name": "Python 3",
   "language": "python",
   "name": "python3"
  },
  "language_info": {
   "codemirror_mode": {
    "name": "ipython",
    "version": 3
   },
   "file_extension": ".py",
   "mimetype": "text/x-python",
   "name": "python",
   "nbconvert_exporter": "python",
   "pygments_lexer": "ipython3",
   "version": "3.6.1"
  }
 },
 "nbformat": 4,
 "nbformat_minor": 2
}
