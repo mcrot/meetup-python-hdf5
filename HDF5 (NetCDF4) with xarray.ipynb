{
 "cells": [
  {
   "cell_type": "markdown",
   "metadata": {},
   "source": [
    "# Purpose of NetCDF4"
   ]
  },
  {
   "cell_type": "markdown",
   "metadata": {},
   "source": [
    "NetCDF4 is file format for multidimensional arrays and based on HDF5.\n",
    "\n",
    "Easier to work with large datasets having labeled dimensions and coordinate variables."
   ]
  },
  {
   "cell_type": "markdown",
   "metadata": {},
   "source": [
    "# Using NetCDF4 through *xarray*\n",
    "\n",
    "Package *xarray*: \n",
    "\n",
    "> provides pandas like interface to multidimensional arrays with labled coordinates\n",
    "> saves arrays in NetCDF4 format\n",
    "> \n",
    ">  http://xarray.pydata.org/en/stable/\n",
    ">\n",
    "> `xarray.Dataset` objects are in-memory represenations of NetCDF4 files.\n",
    "\n",
    "Package *pandas* \n",
    "\n",
    "> - only feasible here for 2d tables (`pandas.DataFrame`), \n",
    "    they will drop support for `pandas.Panel` object.\n",
    "> - provides methods to convert to and from `xarray.Dataset`.\n",
    "\n",
    "\n",
    "Drawbacks: \n",
    "\n",
    "- not possible to append to exisiting data.\n",
    "\n"
   ]
  },
  {
   "cell_type": "code",
   "execution_count": null,
   "metadata": {
    "collapsed": true
   },
   "outputs": [],
   "source": []
  }
 ],
 "metadata": {
  "kernelspec": {
   "display_name": "Python 3",
   "language": "python",
   "name": "python3"
  },
  "language_info": {
   "codemirror_mode": {
    "name": "ipython",
    "version": 3
   },
   "file_extension": ".py",
   "mimetype": "text/x-python",
   "name": "python",
   "nbconvert_exporter": "python",
   "pygments_lexer": "ipython3",
   "version": "3.6.1"
  }
 },
 "nbformat": 4,
 "nbformat_minor": 2
}
